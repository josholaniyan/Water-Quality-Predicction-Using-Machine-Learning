{
 "cells": [
  {
   "cell_type": "code",
   "execution_count": 3,
   "metadata": {},
   "outputs": [],
   "source": [
    "import numpy as np\n",
    "import matplotlib.pyplot as plt\n",
    "import pandas as pd"
   ]
  },
  {
   "cell_type": "code",
   "execution_count": 4,
   "metadata": {},
   "outputs": [],
   "source": [
    "data = pd.read_csv('Water_potability.csv')"
   ]
  },
  {
   "cell_type": "code",
   "execution_count": 5,
   "metadata": {},
   "outputs": [
    {
     "data": {
      "text/html": [
       "<div>\n",
       "<style scoped>\n",
       "    .dataframe tbody tr th:only-of-type {\n",
       "        vertical-align: middle;\n",
       "    }\n",
       "\n",
       "    .dataframe tbody tr th {\n",
       "        vertical-align: top;\n",
       "    }\n",
       "\n",
       "    .dataframe thead th {\n",
       "        text-align: right;\n",
       "    }\n",
       "</style>\n",
       "<table border=\"1\" class=\"dataframe\">\n",
       "  <thead>\n",
       "    <tr style=\"text-align: right;\">\n",
       "      <th></th>\n",
       "      <th>ph</th>\n",
       "      <th>Hardness</th>\n",
       "      <th>Solids</th>\n",
       "      <th>Chloramines</th>\n",
       "      <th>Sulfate</th>\n",
       "      <th>Conductivity</th>\n",
       "      <th>Organic_carbon</th>\n",
       "      <th>Trihalomethanes</th>\n",
       "      <th>Turbidity</th>\n",
       "      <th>Potability</th>\n",
       "    </tr>\n",
       "  </thead>\n",
       "  <tbody>\n",
       "    <tr>\n",
       "      <th>0</th>\n",
       "      <td>NaN</td>\n",
       "      <td>204.890455</td>\n",
       "      <td>20791.318981</td>\n",
       "      <td>7.300212</td>\n",
       "      <td>368.516441</td>\n",
       "      <td>564.308654</td>\n",
       "      <td>10.379783</td>\n",
       "      <td>86.990970</td>\n",
       "      <td>2.963135</td>\n",
       "      <td>0</td>\n",
       "    </tr>\n",
       "    <tr>\n",
       "      <th>1</th>\n",
       "      <td>3.716080</td>\n",
       "      <td>129.422921</td>\n",
       "      <td>18630.057858</td>\n",
       "      <td>6.635246</td>\n",
       "      <td>NaN</td>\n",
       "      <td>592.885359</td>\n",
       "      <td>15.180013</td>\n",
       "      <td>56.329076</td>\n",
       "      <td>4.500656</td>\n",
       "      <td>0</td>\n",
       "    </tr>\n",
       "    <tr>\n",
       "      <th>2</th>\n",
       "      <td>8.099124</td>\n",
       "      <td>224.236259</td>\n",
       "      <td>19909.541732</td>\n",
       "      <td>9.275884</td>\n",
       "      <td>NaN</td>\n",
       "      <td>418.606213</td>\n",
       "      <td>16.868637</td>\n",
       "      <td>66.420093</td>\n",
       "      <td>3.055934</td>\n",
       "      <td>0</td>\n",
       "    </tr>\n",
       "    <tr>\n",
       "      <th>3</th>\n",
       "      <td>8.316766</td>\n",
       "      <td>214.373394</td>\n",
       "      <td>22018.417441</td>\n",
       "      <td>8.059332</td>\n",
       "      <td>356.886136</td>\n",
       "      <td>363.266516</td>\n",
       "      <td>18.436524</td>\n",
       "      <td>100.341674</td>\n",
       "      <td>4.628771</td>\n",
       "      <td>0</td>\n",
       "    </tr>\n",
       "    <tr>\n",
       "      <th>4</th>\n",
       "      <td>9.092223</td>\n",
       "      <td>181.101509</td>\n",
       "      <td>17978.986339</td>\n",
       "      <td>6.546600</td>\n",
       "      <td>310.135738</td>\n",
       "      <td>398.410813</td>\n",
       "      <td>11.558279</td>\n",
       "      <td>31.997993</td>\n",
       "      <td>4.075075</td>\n",
       "      <td>0</td>\n",
       "    </tr>\n",
       "  </tbody>\n",
       "</table>\n",
       "</div>"
      ],
      "text/plain": [
       "         ph    Hardness        Solids  Chloramines     Sulfate  Conductivity  \\\n",
       "0       NaN  204.890455  20791.318981     7.300212  368.516441    564.308654   \n",
       "1  3.716080  129.422921  18630.057858     6.635246         NaN    592.885359   \n",
       "2  8.099124  224.236259  19909.541732     9.275884         NaN    418.606213   \n",
       "3  8.316766  214.373394  22018.417441     8.059332  356.886136    363.266516   \n",
       "4  9.092223  181.101509  17978.986339     6.546600  310.135738    398.410813   \n",
       "\n",
       "   Organic_carbon  Trihalomethanes  Turbidity  Potability  \n",
       "0       10.379783        86.990970   2.963135           0  \n",
       "1       15.180013        56.329076   4.500656           0  \n",
       "2       16.868637        66.420093   3.055934           0  \n",
       "3       18.436524       100.341674   4.628771           0  \n",
       "4       11.558279        31.997993   4.075075           0  "
      ]
     },
     "execution_count": 5,
     "metadata": {},
     "output_type": "execute_result"
    }
   ],
   "source": [
    "data.head()"
   ]
  },
  {
   "cell_type": "code",
   "execution_count": 6,
   "metadata": {},
   "outputs": [
    {
     "data": {
      "text/html": [
       "<div>\n",
       "<style scoped>\n",
       "    .dataframe tbody tr th:only-of-type {\n",
       "        vertical-align: middle;\n",
       "    }\n",
       "\n",
       "    .dataframe tbody tr th {\n",
       "        vertical-align: top;\n",
       "    }\n",
       "\n",
       "    .dataframe thead th {\n",
       "        text-align: right;\n",
       "    }\n",
       "</style>\n",
       "<table border=\"1\" class=\"dataframe\">\n",
       "  <thead>\n",
       "    <tr style=\"text-align: right;\">\n",
       "      <th></th>\n",
       "      <th>ph</th>\n",
       "      <th>Hardness</th>\n",
       "      <th>Solids</th>\n",
       "      <th>Chloramines</th>\n",
       "      <th>Sulfate</th>\n",
       "      <th>Conductivity</th>\n",
       "      <th>Organic_carbon</th>\n",
       "      <th>Trihalomethanes</th>\n",
       "      <th>Turbidity</th>\n",
       "      <th>Potability</th>\n",
       "    </tr>\n",
       "  </thead>\n",
       "  <tbody>\n",
       "    <tr>\n",
       "      <th>count</th>\n",
       "      <td>2785.000000</td>\n",
       "      <td>3276.000000</td>\n",
       "      <td>3276.000000</td>\n",
       "      <td>3276.000000</td>\n",
       "      <td>2495.000000</td>\n",
       "      <td>3276.000000</td>\n",
       "      <td>3276.000000</td>\n",
       "      <td>3114.000000</td>\n",
       "      <td>3276.000000</td>\n",
       "      <td>3276.000000</td>\n",
       "    </tr>\n",
       "    <tr>\n",
       "      <th>mean</th>\n",
       "      <td>7.080795</td>\n",
       "      <td>196.369496</td>\n",
       "      <td>22014.092526</td>\n",
       "      <td>7.122277</td>\n",
       "      <td>333.775777</td>\n",
       "      <td>426.205111</td>\n",
       "      <td>14.284970</td>\n",
       "      <td>66.396293</td>\n",
       "      <td>3.966786</td>\n",
       "      <td>0.390110</td>\n",
       "    </tr>\n",
       "    <tr>\n",
       "      <th>std</th>\n",
       "      <td>1.594320</td>\n",
       "      <td>32.879761</td>\n",
       "      <td>8768.570828</td>\n",
       "      <td>1.583085</td>\n",
       "      <td>41.416840</td>\n",
       "      <td>80.824064</td>\n",
       "      <td>3.308162</td>\n",
       "      <td>16.175008</td>\n",
       "      <td>0.780382</td>\n",
       "      <td>0.487849</td>\n",
       "    </tr>\n",
       "    <tr>\n",
       "      <th>min</th>\n",
       "      <td>0.000000</td>\n",
       "      <td>47.432000</td>\n",
       "      <td>320.942611</td>\n",
       "      <td>0.352000</td>\n",
       "      <td>129.000000</td>\n",
       "      <td>181.483754</td>\n",
       "      <td>2.200000</td>\n",
       "      <td>0.738000</td>\n",
       "      <td>1.450000</td>\n",
       "      <td>0.000000</td>\n",
       "    </tr>\n",
       "    <tr>\n",
       "      <th>25%</th>\n",
       "      <td>6.093092</td>\n",
       "      <td>176.850538</td>\n",
       "      <td>15666.690297</td>\n",
       "      <td>6.127421</td>\n",
       "      <td>307.699498</td>\n",
       "      <td>365.734414</td>\n",
       "      <td>12.065801</td>\n",
       "      <td>55.844536</td>\n",
       "      <td>3.439711</td>\n",
       "      <td>0.000000</td>\n",
       "    </tr>\n",
       "    <tr>\n",
       "      <th>50%</th>\n",
       "      <td>7.036752</td>\n",
       "      <td>196.967627</td>\n",
       "      <td>20927.833607</td>\n",
       "      <td>7.130299</td>\n",
       "      <td>333.073546</td>\n",
       "      <td>421.884968</td>\n",
       "      <td>14.218338</td>\n",
       "      <td>66.622485</td>\n",
       "      <td>3.955028</td>\n",
       "      <td>0.000000</td>\n",
       "    </tr>\n",
       "    <tr>\n",
       "      <th>75%</th>\n",
       "      <td>8.062066</td>\n",
       "      <td>216.667456</td>\n",
       "      <td>27332.762127</td>\n",
       "      <td>8.114887</td>\n",
       "      <td>359.950170</td>\n",
       "      <td>481.792304</td>\n",
       "      <td>16.557652</td>\n",
       "      <td>77.337473</td>\n",
       "      <td>4.500320</td>\n",
       "      <td>1.000000</td>\n",
       "    </tr>\n",
       "    <tr>\n",
       "      <th>max</th>\n",
       "      <td>14.000000</td>\n",
       "      <td>323.124000</td>\n",
       "      <td>61227.196008</td>\n",
       "      <td>13.127000</td>\n",
       "      <td>481.030642</td>\n",
       "      <td>753.342620</td>\n",
       "      <td>28.300000</td>\n",
       "      <td>124.000000</td>\n",
       "      <td>6.739000</td>\n",
       "      <td>1.000000</td>\n",
       "    </tr>\n",
       "  </tbody>\n",
       "</table>\n",
       "</div>"
      ],
      "text/plain": [
       "                ph     Hardness        Solids  Chloramines      Sulfate  \\\n",
       "count  2785.000000  3276.000000   3276.000000  3276.000000  2495.000000   \n",
       "mean      7.080795   196.369496  22014.092526     7.122277   333.775777   \n",
       "std       1.594320    32.879761   8768.570828     1.583085    41.416840   \n",
       "min       0.000000    47.432000    320.942611     0.352000   129.000000   \n",
       "25%       6.093092   176.850538  15666.690297     6.127421   307.699498   \n",
       "50%       7.036752   196.967627  20927.833607     7.130299   333.073546   \n",
       "75%       8.062066   216.667456  27332.762127     8.114887   359.950170   \n",
       "max      14.000000   323.124000  61227.196008    13.127000   481.030642   \n",
       "\n",
       "       Conductivity  Organic_carbon  Trihalomethanes    Turbidity   Potability  \n",
       "count   3276.000000     3276.000000      3114.000000  3276.000000  3276.000000  \n",
       "mean     426.205111       14.284970        66.396293     3.966786     0.390110  \n",
       "std       80.824064        3.308162        16.175008     0.780382     0.487849  \n",
       "min      181.483754        2.200000         0.738000     1.450000     0.000000  \n",
       "25%      365.734414       12.065801        55.844536     3.439711     0.000000  \n",
       "50%      421.884968       14.218338        66.622485     3.955028     0.000000  \n",
       "75%      481.792304       16.557652        77.337473     4.500320     1.000000  \n",
       "max      753.342620       28.300000       124.000000     6.739000     1.000000  "
      ]
     },
     "execution_count": 6,
     "metadata": {},
     "output_type": "execute_result"
    }
   ],
   "source": [
    "data.describe()"
   ]
  },
  {
   "cell_type": "code",
   "execution_count": 7,
   "metadata": {},
   "outputs": [
    {
     "name": "stdout",
     "output_type": "stream",
     "text": [
      "<class 'pandas.core.frame.DataFrame'>\n",
      "RangeIndex: 3276 entries, 0 to 3275\n",
      "Data columns (total 10 columns):\n",
      " #   Column           Non-Null Count  Dtype  \n",
      "---  ------           --------------  -----  \n",
      " 0   ph               2785 non-null   float64\n",
      " 1   Hardness         3276 non-null   float64\n",
      " 2   Solids           3276 non-null   float64\n",
      " 3   Chloramines      3276 non-null   float64\n",
      " 4   Sulfate          2495 non-null   float64\n",
      " 5   Conductivity     3276 non-null   float64\n",
      " 6   Organic_carbon   3276 non-null   float64\n",
      " 7   Trihalomethanes  3114 non-null   float64\n",
      " 8   Turbidity        3276 non-null   float64\n",
      " 9   Potability       3276 non-null   int64  \n",
      "dtypes: float64(9), int64(1)\n",
      "memory usage: 256.1 KB\n"
     ]
    }
   ],
   "source": [
    "data.info()"
   ]
  },
  {
   "cell_type": "code",
   "execution_count": 8,
   "metadata": {},
   "outputs": [
    {
     "data": {
      "text/plain": [
       "(3276, 10)"
      ]
     },
     "execution_count": 8,
     "metadata": {},
     "output_type": "execute_result"
    }
   ],
   "source": [
    "data.shape"
   ]
  },
  {
   "cell_type": "code",
   "execution_count": 9,
   "metadata": {},
   "outputs": [
    {
     "data": {
      "text/plain": [
       "ph                 491\n",
       "Hardness             0\n",
       "Solids               0\n",
       "Chloramines          0\n",
       "Sulfate            781\n",
       "Conductivity         0\n",
       "Organic_carbon       0\n",
       "Trihalomethanes    162\n",
       "Turbidity            0\n",
       "Potability           0\n",
       "dtype: int64"
      ]
     },
     "execution_count": 9,
     "metadata": {},
     "output_type": "execute_result"
    }
   ],
   "source": [
    "data.isnull().sum()"
   ]
  },
  {
   "cell_type": "markdown",
   "metadata": {},
   "source": [
    "for i in data.columns:\n",
    "    if data[i].dtype != 'object':\n",
    "        median=data[i].median()\n",
    "        data[i]=data[i].fillna(median)"
   ]
  },
  {
   "cell_type": "code",
   "execution_count": 10,
   "metadata": {},
   "outputs": [],
   "source": [
    "data.fillna(data.mean(),inplace=True)"
   ]
  },
  {
   "cell_type": "code",
   "execution_count": 11,
   "metadata": {},
   "outputs": [
    {
     "data": {
      "text/html": [
       "<div>\n",
       "<style scoped>\n",
       "    .dataframe tbody tr th:only-of-type {\n",
       "        vertical-align: middle;\n",
       "    }\n",
       "\n",
       "    .dataframe tbody tr th {\n",
       "        vertical-align: top;\n",
       "    }\n",
       "\n",
       "    .dataframe thead th {\n",
       "        text-align: right;\n",
       "    }\n",
       "</style>\n",
       "<table border=\"1\" class=\"dataframe\">\n",
       "  <thead>\n",
       "    <tr style=\"text-align: right;\">\n",
       "      <th></th>\n",
       "      <th>ph</th>\n",
       "      <th>Hardness</th>\n",
       "      <th>Solids</th>\n",
       "      <th>Chloramines</th>\n",
       "      <th>Sulfate</th>\n",
       "      <th>Conductivity</th>\n",
       "      <th>Organic_carbon</th>\n",
       "      <th>Trihalomethanes</th>\n",
       "      <th>Turbidity</th>\n",
       "      <th>Potability</th>\n",
       "    </tr>\n",
       "  </thead>\n",
       "  <tbody>\n",
       "    <tr>\n",
       "      <th>0</th>\n",
       "      <td>7.080795</td>\n",
       "      <td>204.890455</td>\n",
       "      <td>20791.318981</td>\n",
       "      <td>7.300212</td>\n",
       "      <td>368.516441</td>\n",
       "      <td>564.308654</td>\n",
       "      <td>10.379783</td>\n",
       "      <td>86.990970</td>\n",
       "      <td>2.963135</td>\n",
       "      <td>0</td>\n",
       "    </tr>\n",
       "    <tr>\n",
       "      <th>1</th>\n",
       "      <td>3.716080</td>\n",
       "      <td>129.422921</td>\n",
       "      <td>18630.057858</td>\n",
       "      <td>6.635246</td>\n",
       "      <td>333.775777</td>\n",
       "      <td>592.885359</td>\n",
       "      <td>15.180013</td>\n",
       "      <td>56.329076</td>\n",
       "      <td>4.500656</td>\n",
       "      <td>0</td>\n",
       "    </tr>\n",
       "    <tr>\n",
       "      <th>2</th>\n",
       "      <td>8.099124</td>\n",
       "      <td>224.236259</td>\n",
       "      <td>19909.541732</td>\n",
       "      <td>9.275884</td>\n",
       "      <td>333.775777</td>\n",
       "      <td>418.606213</td>\n",
       "      <td>16.868637</td>\n",
       "      <td>66.420093</td>\n",
       "      <td>3.055934</td>\n",
       "      <td>0</td>\n",
       "    </tr>\n",
       "    <tr>\n",
       "      <th>3</th>\n",
       "      <td>8.316766</td>\n",
       "      <td>214.373394</td>\n",
       "      <td>22018.417441</td>\n",
       "      <td>8.059332</td>\n",
       "      <td>356.886136</td>\n",
       "      <td>363.266516</td>\n",
       "      <td>18.436524</td>\n",
       "      <td>100.341674</td>\n",
       "      <td>4.628771</td>\n",
       "      <td>0</td>\n",
       "    </tr>\n",
       "    <tr>\n",
       "      <th>4</th>\n",
       "      <td>9.092223</td>\n",
       "      <td>181.101509</td>\n",
       "      <td>17978.986339</td>\n",
       "      <td>6.546600</td>\n",
       "      <td>310.135738</td>\n",
       "      <td>398.410813</td>\n",
       "      <td>11.558279</td>\n",
       "      <td>31.997993</td>\n",
       "      <td>4.075075</td>\n",
       "      <td>0</td>\n",
       "    </tr>\n",
       "  </tbody>\n",
       "</table>\n",
       "</div>"
      ],
      "text/plain": [
       "         ph    Hardness        Solids  Chloramines     Sulfate  Conductivity  \\\n",
       "0  7.080795  204.890455  20791.318981     7.300212  368.516441    564.308654   \n",
       "1  3.716080  129.422921  18630.057858     6.635246  333.775777    592.885359   \n",
       "2  8.099124  224.236259  19909.541732     9.275884  333.775777    418.606213   \n",
       "3  8.316766  214.373394  22018.417441     8.059332  356.886136    363.266516   \n",
       "4  9.092223  181.101509  17978.986339     6.546600  310.135738    398.410813   \n",
       "\n",
       "   Organic_carbon  Trihalomethanes  Turbidity  Potability  \n",
       "0       10.379783        86.990970   2.963135           0  \n",
       "1       15.180013        56.329076   4.500656           0  \n",
       "2       16.868637        66.420093   3.055934           0  \n",
       "3       18.436524       100.341674   4.628771           0  \n",
       "4       11.558279        31.997993   4.075075           0  "
      ]
     },
     "execution_count": 11,
     "metadata": {},
     "output_type": "execute_result"
    }
   ],
   "source": [
    "data.head()"
   ]
  },
  {
   "cell_type": "code",
   "execution_count": 12,
   "metadata": {},
   "outputs": [
    {
     "data": {
      "text/plain": [
       "ph                 0\n",
       "Hardness           0\n",
       "Solids             0\n",
       "Chloramines        0\n",
       "Sulfate            0\n",
       "Conductivity       0\n",
       "Organic_carbon     0\n",
       "Trihalomethanes    0\n",
       "Turbidity          0\n",
       "Potability         0\n",
       "dtype: int64"
      ]
     },
     "execution_count": 12,
     "metadata": {},
     "output_type": "execute_result"
    }
   ],
   "source": [
    "data.isnull().sum()"
   ]
  },
  {
   "cell_type": "code",
   "execution_count": 13,
   "metadata": {},
   "outputs": [
    {
     "data": {
      "image/png": "[encoded data removed]",
      "text/plain": [
       "<Figure size 720x504 with 1 Axes>"
      ]
     },
     "metadata": {
      "needs_background": "light"
     },
     "output_type": "display_data"
    }
   ],
   "source": [
    "plt.figure(figsize=(10,7))\n",
    "plt.scatter(data['ph'],data['Potability'],color='red')\n",
    "plt.title('ph vs Potability')\n",
    "plt.xlabel('ph')\n",
    "plt.ylabel('Potability')\n",
    "plt.show()"
   ]
  },
  {
   "cell_type": "code",
   "execution_count": 14,
   "metadata": {},
   "outputs": [
    {
     "data": {
      "image/png": "[encoded data removed]",
      "text/plain": [
       "<Figure size 720x504 with 1 Axes>"
      ]
     },
     "metadata": {
      "needs_background": "light"
     },
     "output_type": "display_data"
    }
   ],
   "source": [
    "plt.figure(figsize=(10,7))\n",
    "plt.scatter(data['Hardness'],data['Potability'],color='red')\n",
    "plt.title('Hardness vs Potability')\n",
    "plt.xlabel('Hardness')\n",
    "plt.ylabel('Potability')\n",
    "plt.show()"
   ]
  },
  {
   "cell_type": "code",
   "execution_count": 15,
   "metadata": {},
   "outputs": [
    {
     "data": {
      "image/png": "[encoded data removed]",
      "text/plain": [
       "<Figure size 720x504 with 1 Axes>"
      ]
     },
     "metadata": {
      "needs_background": "light"
     },
     "output_type": "display_data"
    }
   ],
   "source": [
    "plt.figure(figsize=(10,7))\n",
    "plt.scatter(data['Solids'],data['Potability'],color='red')\n",
    "plt.title('Solids vs Potability',fontsize=14)\n",
    "plt.xlabel('Solids')\n",
    "plt.ylabel('Potability')\n",
    "plt.show()"
   ]
  },
  {
   "cell_type": "code",
   "execution_count": 16,
   "metadata": {},
   "outputs": [],
   "source": [
    "import seaborn as sns"
   ]
  },
  {
   "cell_type": "code",
   "execution_count": 17,
   "metadata": {},
   "outputs": [
    {
     "data": {
      "text/html": [
       "<style  type=\"text/css\" >\n",
       "    #T_2509f9ec_af60_11ec_b2b2_d8fc93eebf64row0_col0 {\n",
       "            background-color:  #b40426;\n",
       "            color:  #f1f1f1;\n",
       "        }    #T_2509f9ec_af60_11ec_b2b2_d8fc93eebf64row0_col1 {\n",
       "            background-color:  #6b8df0;\n",
       "            color:  #000000;\n",
       "        }    #T_2509f9ec_af60_11ec_b2b2_d8fc93eebf64row0_col2 {\n",
       "            background-color:  #4c66d6;\n",
       "            color:  #000000;\n",
       "        }    #T_2509f9ec_af60_11ec_b2b2_d8fc93eebf64row0_col3 {\n",
       "            background-color:  #455cce;\n",
       "            color:  #f1f1f1;\n",
       "        }    #T_2509f9ec_af60_11ec_b2b2_d8fc93eebf64row0_col4 {\n",
       "            background-color:  #6788ee;\n",
       "            color:  #000000;\n",
       "        }    #T_2509f9ec_af60_11ec_b2b2_d8fc93eebf64row0_col5 {\n",
       "            background-color:  #465ecf;\n",
       "            color:  #f1f1f1;\n",
       "        }    #T_2509f9ec_af60_11ec_b2b2_d8fc93eebf64row0_col6 {\n",
       "            background-color:  #4f69d9;\n",
       "            color:  #000000;\n",
       "        }    #T_2509f9ec_af60_11ec_b2b2_d8fc93eebf64row0_col7 {\n",
       "            background-color:  #4358cb;\n",
       "            color:  #f1f1f1;\n",
       "        }    #T_2509f9ec_af60_11ec_b2b2_d8fc93eebf64row0_col8 {\n",
       "            background-color:  #3b4cc0;\n",
       "            color:  #f1f1f1;\n",
       "        }    #T_2509f9ec_af60_11ec_b2b2_d8fc93eebf64row0_col9 {\n",
       "            background-color:  #4257c9;\n",
       "            color:  #f1f1f1;\n",
       "        }    #T_2509f9ec_af60_11ec_b2b2_d8fc93eebf64row1_col0 {\n",
       "            background-color:  #688aef;\n",
       "            color:  #000000;\n",
       "        }    #T_2509f9ec_af60_11ec_b2b2_d8fc93eebf64row1_col1 {\n",
       "            background-color:  #b40426;\n",
       "            color:  #f1f1f1;\n",
       "        }    #T_2509f9ec_af60_11ec_b2b2_d8fc93eebf64row1_col2 {\n",
       "            background-color:  #5572df;\n",
       "            color:  #000000;\n",
       "        }    #T_2509f9ec_af60_11ec_b2b2_d8fc93eebf64row1_col3 {\n",
       "            background-color:  #455cce;\n",
       "            color:  #f1f1f1;\n",
       "        }    #T_2509f9ec_af60_11ec_b2b2_d8fc93eebf64row1_col4 {\n",
       "            background-color:  #4961d2;\n",
       "            color:  #f1f1f1;\n",
       "        }    #T_2509f9ec_af60_11ec_b2b2_d8fc93eebf64row1_col5 {\n",
       "            background-color:  #3b4cc0;\n",
       "            color:  #f1f1f1;\n",
       "        }    #T_2509f9ec_af60_11ec_b2b2_d8fc93eebf64row1_col6 {\n",
       "            background-color:  #445acc;\n",
       "            color:  #f1f1f1;\n",
       "        }    #T_2509f9ec_af60_11ec_b2b2_d8fc93eebf64row1_col7 {\n",
       "            background-color:  #3e51c5;\n",
       "            color:  #f1f1f1;\n",
       "        }    #T_2509f9ec_af60_11ec_b2b2_d8fc93eebf64row1_col8 {\n",
       "            background-color:  #4055c8;\n",
       "            color:  #f1f1f1;\n",
       "        }    #T_2509f9ec_af60_11ec_b2b2_d8fc93eebf64row1_col9 {\n",
       "            background-color:  #3f53c6;\n",
       "            color:  #f1f1f1;\n",
       "        }    #T_2509f9ec_af60_11ec_b2b2_d8fc93eebf64row2_col0 {\n",
       "            background-color:  #3b4cc0;\n",
       "            color:  #f1f1f1;\n",
       "        }    #T_2509f9ec_af60_11ec_b2b2_d8fc93eebf64row2_col1 {\n",
       "            background-color:  #465ecf;\n",
       "            color:  #f1f1f1;\n",
       "        }    #T_2509f9ec_af60_11ec_b2b2_d8fc93eebf64row2_col2 {\n",
       "            background-color:  #b40426;\n",
       "            color:  #f1f1f1;\n",
       "        }    #T_2509f9ec_af60_11ec_b2b2_d8fc93eebf64row2_col3 {\n",
       "            background-color:  #3b4cc0;\n",
       "            color:  #f1f1f1;\n",
       "        }    #T_2509f9ec_af60_11ec_b2b2_d8fc93eebf64row2_col4 {\n",
       "            background-color:  #3b4cc0;\n",
       "            color:  #f1f1f1;\n",
       "        }    #T_2509f9ec_af60_11ec_b2b2_d8fc93eebf64row2_col5 {\n",
       "            background-color:  #455cce;\n",
       "            color:  #f1f1f1;\n",
       "        }    #T_2509f9ec_af60_11ec_b2b2_d8fc93eebf64row2_col6 {\n",
       "            background-color:  #465ecf;\n",
       "            color:  #f1f1f1;\n",
       "        }    #T_2509f9ec_af60_11ec_b2b2_d8fc93eebf64row2_col7 {\n",
       "            background-color:  #3f53c6;\n",
       "            color:  #f1f1f1;\n",
       "        }    #T_2509f9ec_af60_11ec_b2b2_d8fc93eebf64row2_col8 {\n",
       "            background-color:  #4a63d3;\n",
       "            color:  #f1f1f1;\n",
       "        }    #T_2509f9ec_af60_11ec_b2b2_d8fc93eebf64row2_col9 {\n",
       "            background-color:  #4c66d6;\n",
       "            color:  #000000;\n",
       "        }    #T_2509f9ec_af60_11ec_b2b2_d8fc93eebf64row3_col0 {\n",
       "            background-color:  #485fd1;\n",
       "            color:  #f1f1f1;\n",
       "        }    #T_2509f9ec_af60_11ec_b2b2_d8fc93eebf64row3_col1 {\n",
       "            background-color:  #4b64d5;\n",
       "            color:  #f1f1f1;\n",
       "        }    #T_2509f9ec_af60_11ec_b2b2_d8fc93eebf64row3_col2 {\n",
       "            background-color:  #4f69d9;\n",
       "            color:  #000000;\n",
       "        }    #T_2509f9ec_af60_11ec_b2b2_d8fc93eebf64row3_col3 {\n",
       "            background-color:  #b40426;\n",
       "            color:  #f1f1f1;\n",
       "        }    #T_2509f9ec_af60_11ec_b2b2_d8fc93eebf64row3_col4 {\n",
       "            background-color:  #6a8bef;\n",
       "            color:  #000000;\n",
       "        }    #T_2509f9ec_af60_11ec_b2b2_d8fc93eebf64row3_col5 {\n",
       "            background-color:  #3b4cc0;\n",
       "            color:  #f1f1f1;\n",
       "        }    #T_2509f9ec_af60_11ec_b2b2_d8fc93eebf64row3_col6 {\n",
       "            background-color:  #3f53c6;\n",
       "            color:  #f1f1f1;\n",
       "        }    #T_2509f9ec_af60_11ec_b2b2_d8fc93eebf64row3_col7 {\n",
       "            background-color:  #465ecf;\n",
       "            color:  #f1f1f1;\n",
       "        }    #T_2509f9ec_af60_11ec_b2b2_d8fc93eebf64row3_col8 {\n",
       "            background-color:  #455cce;\n",
       "            color:  #f1f1f1;\n",
       "        }    #T_2509f9ec_af60_11ec_b2b2_d8fc93eebf64row3_col9 {\n",
       "            background-color:  #4a63d3;\n",
       "            color:  #f1f1f1;\n",
       "        }    #T_2509f9ec_af60_11ec_b2b2_d8fc93eebf64row4_col0 {\n",
       "            background-color:  #5572df;\n",
       "            color:  #000000;\n",
       "        }    #T_2509f9ec_af60_11ec_b2b2_d8fc93eebf64row4_col1 {\n",
       "            background-color:  #3b4cc0;\n",
       "            color:  #f1f1f1;\n",
       "        }    #T_2509f9ec_af60_11ec_b2b2_d8fc93eebf64row4_col2 {\n",
       "            background-color:  #3b4cc0;\n",
       "            color:  #f1f1f1;\n",
       "        }    #T_2509f9ec_af60_11ec_b2b2_d8fc93eebf64row4_col3 {\n",
       "            background-color:  #5572df;\n",
       "            color:  #000000;\n",
       "        }    #T_2509f9ec_af60_11ec_b2b2_d8fc93eebf64row4_col4 {\n",
       "            background-color:  #b40426;\n",
       "            color:  #f1f1f1;\n",
       "        }    #T_2509f9ec_af60_11ec_b2b2_d8fc93eebf64row4_col5 {\n",
       "            background-color:  #3d50c3;\n",
       "            color:  #f1f1f1;\n",
       "        }    #T_2509f9ec_af60_11ec_b2b2_d8fc93eebf64row4_col6 {\n",
       "            background-color:  #4b64d5;\n",
       "            color:  #f1f1f1;\n",
       "        }    #T_2509f9ec_af60_11ec_b2b2_d8fc93eebf64row4_col7 {\n",
       "            background-color:  #3b4cc0;\n",
       "            color:  #f1f1f1;\n",
       "        }    #T_2509f9ec_af60_11ec_b2b2_d8fc93eebf64row4_col8 {\n",
       "            background-color:  #4257c9;\n",
       "            color:  #f1f1f1;\n",
       "        }    #T_2509f9ec_af60_11ec_b2b2_d8fc93eebf64row4_col9 {\n",
       "            background-color:  #3d50c3;\n",
       "            color:  #f1f1f1;\n",
       "        }    #T_2509f9ec_af60_11ec_b2b2_d8fc93eebf64row5_col0 {\n",
       "            background-color:  #5673e0;\n",
       "            color:  #000000;\n",
       "        }    #T_2509f9ec_af60_11ec_b2b2_d8fc93eebf64row5_col1 {\n",
       "            background-color:  #4e68d8;\n",
       "            color:  #000000;\n",
       "        }    #T_2509f9ec_af60_11ec_b2b2_d8fc93eebf64row5_col2 {\n",
       "            background-color:  #6788ee;\n",
       "            color:  #000000;\n",
       "        }    #T_2509f9ec_af60_11ec_b2b2_d8fc93eebf64row5_col3 {\n",
       "            background-color:  #485fd1;\n",
       "            color:  #f1f1f1;\n",
       "        }    #T_2509f9ec_af60_11ec_b2b2_d8fc93eebf64row5_col4 {\n",
       "            background-color:  #5f7fe8;\n",
       "            color:  #000000;\n",
       "        }    #T_2509f9ec_af60_11ec_b2b2_d8fc93eebf64row5_col5 {\n",
       "            background-color:  #b40426;\n",
       "            color:  #f1f1f1;\n",
       "        }    #T_2509f9ec_af60_11ec_b2b2_d8fc93eebf64row5_col6 {\n",
       "            background-color:  #4961d2;\n",
       "            color:  #f1f1f1;\n",
       "        }    #T_2509f9ec_af60_11ec_b2b2_d8fc93eebf64row5_col7 {\n",
       "            background-color:  #4257c9;\n",
       "            color:  #f1f1f1;\n",
       "        }    #T_2509f9ec_af60_11ec_b2b2_d8fc93eebf64row5_col8 {\n",
       "            background-color:  #465ecf;\n",
       "            color:  #f1f1f1;\n",
       "        }    #T_2509f9ec_af60_11ec_b2b2_d8fc93eebf64row5_col9 {\n",
       "            background-color:  #4055c8;\n",
       "            color:  #f1f1f1;\n",
       "        }    #T_2509f9ec_af60_11ec_b2b2_d8fc93eebf64row6_col0 {\n",
       "            background-color:  #5d7ce6;\n",
       "            color:  #000000;\n",
       "        }    #T_2509f9ec_af60_11ec_b2b2_d8fc93eebf64row6_col1 {\n",
       "            background-color:  #5572df;\n",
       "            color:  #000000;\n",
       "        }    #T_2509f9ec_af60_11ec_b2b2_d8fc93eebf64row6_col2 {\n",
       "            background-color:  #6687ed;\n",
       "            color:  #000000;\n",
       "        }    #T_2509f9ec_af60_11ec_b2b2_d8fc93eebf64row6_col3 {\n",
       "            background-color:  #4a63d3;\n",
       "            color:  #f1f1f1;\n",
       "        }    #T_2509f9ec_af60_11ec_b2b2_d8fc93eebf64row6_col4 {\n",
       "            background-color:  #6b8df0;\n",
       "            color:  #000000;\n",
       "        }    #T_2509f9ec_af60_11ec_b2b2_d8fc93eebf64row6_col5 {\n",
       "            background-color:  #485fd1;\n",
       "            color:  #f1f1f1;\n",
       "        }    #T_2509f9ec_af60_11ec_b2b2_d8fc93eebf64row6_col6 {\n",
       "            background-color:  #b40426;\n",
       "            color:  #f1f1f1;\n",
       "        }    #T_2509f9ec_af60_11ec_b2b2_d8fc93eebf64row6_col7 {\n",
       "            background-color:  #3e51c5;\n",
       "            color:  #f1f1f1;\n",
       "        }    #T_2509f9ec_af60_11ec_b2b2_d8fc93eebf64row6_col8 {\n",
       "            background-color:  #3d50c3;\n",
       "            color:  #f1f1f1;\n",
       "        }    #T_2509f9ec_af60_11ec_b2b2_d8fc93eebf64row6_col9 {\n",
       "            background-color:  #3b4cc0;\n",
       "            color:  #f1f1f1;\n",
       "        }    #T_2509f9ec_af60_11ec_b2b2_d8fc93eebf64row7_col0 {\n",
       "            background-color:  #536edd;\n",
       "            color:  #000000;\n",
       "        }    #T_2509f9ec_af60_11ec_b2b2_d8fc93eebf64row7_col1 {\n",
       "            background-color:  #506bda;\n",
       "            color:  #000000;\n",
       "        }    #T_2509f9ec_af60_11ec_b2b2_d8fc93eebf64row7_col2 {\n",
       "            background-color:  #6180e9;\n",
       "            color:  #000000;\n",
       "        }    #T_2509f9ec_af60_11ec_b2b2_d8fc93eebf64row7_col3 {\n",
       "            background-color:  #536edd;\n",
       "            color:  #000000;\n",
       "        }    #T_2509f9ec_af60_11ec_b2b2_d8fc93eebf64row7_col4 {\n",
       "            background-color:  #5b7ae5;\n",
       "            color:  #000000;\n",
       "        }    #T_2509f9ec_af60_11ec_b2b2_d8fc93eebf64row7_col5 {\n",
       "            background-color:  #4257c9;\n",
       "            color:  #f1f1f1;\n",
       "        }    #T_2509f9ec_af60_11ec_b2b2_d8fc93eebf64row7_col6 {\n",
       "            background-color:  #3f53c6;\n",
       "            color:  #f1f1f1;\n",
       "        }    #T_2509f9ec_af60_11ec_b2b2_d8fc93eebf64row7_col7 {\n",
       "            background-color:  #b40426;\n",
       "            color:  #f1f1f1;\n",
       "        }    #T_2509f9ec_af60_11ec_b2b2_d8fc93eebf64row7_col8 {\n",
       "            background-color:  #3e51c5;\n",
       "            color:  #f1f1f1;\n",
       "        }    #T_2509f9ec_af60_11ec_b2b2_d8fc93eebf64row7_col9 {\n",
       "            background-color:  #455cce;\n",
       "            color:  #f1f1f1;\n",
       "        }    #T_2509f9ec_af60_11ec_b2b2_d8fc93eebf64row8_col0 {\n",
       "            background-color:  #465ecf;\n",
       "            color:  #f1f1f1;\n",
       "        }    #T_2509f9ec_af60_11ec_b2b2_d8fc93eebf64row8_col1 {\n",
       "            background-color:  #506bda;\n",
       "            color:  #000000;\n",
       "        }    #T_2509f9ec_af60_11ec_b2b2_d8fc93eebf64row8_col2 {\n",
       "            background-color:  #688aef;\n",
       "            color:  #000000;\n",
       "        }    #T_2509f9ec_af60_11ec_b2b2_d8fc93eebf64row8_col3 {\n",
       "            background-color:  #4f69d9;\n",
       "            color:  #000000;\n",
       "        }    #T_2509f9ec_af60_11ec_b2b2_d8fc93eebf64row8_col4 {\n",
       "            background-color:  #6180e9;\n",
       "            color:  #000000;\n",
       "        }    #T_2509f9ec_af60_11ec_b2b2_d8fc93eebf64row8_col5 {\n",
       "            background-color:  #4358cb;\n",
       "            color:  #f1f1f1;\n",
       "        }    #T_2509f9ec_af60_11ec_b2b2_d8fc93eebf64row8_col6 {\n",
       "            background-color:  #3b4cc0;\n",
       "            color:  #f1f1f1;\n",
       "        }    #T_2509f9ec_af60_11ec_b2b2_d8fc93eebf64row8_col7 {\n",
       "            background-color:  #3c4ec2;\n",
       "            color:  #f1f1f1;\n",
       "        }    #T_2509f9ec_af60_11ec_b2b2_d8fc93eebf64row8_col8 {\n",
       "            background-color:  #b40426;\n",
       "            color:  #f1f1f1;\n",
       "        }    #T_2509f9ec_af60_11ec_b2b2_d8fc93eebf64row8_col9 {\n",
       "            background-color:  #4358cb;\n",
       "            color:  #f1f1f1;\n",
       "        }    #T_2509f9ec_af60_11ec_b2b2_d8fc93eebf64row9_col0 {\n",
       "            background-color:  #506bda;\n",
       "            color:  #000000;\n",
       "        }    #T_2509f9ec_af60_11ec_b2b2_d8fc93eebf64row9_col1 {\n",
       "            background-color:  #506bda;\n",
       "            color:  #000000;\n",
       "        }    #T_2509f9ec_af60_11ec_b2b2_d8fc93eebf64row9_col2 {\n",
       "            background-color:  #6c8ff1;\n",
       "            color:  #000000;\n",
       "        }    #T_2509f9ec_af60_11ec_b2b2_d8fc93eebf64row9_col3 {\n",
       "            background-color:  #5572df;\n",
       "            color:  #000000;\n",
       "        }    #T_2509f9ec_af60_11ec_b2b2_d8fc93eebf64row9_col4 {\n",
       "            background-color:  #5d7ce6;\n",
       "            color:  #000000;\n",
       "        }    #T_2509f9ec_af60_11ec_b2b2_d8fc93eebf64row9_col5 {\n",
       "            background-color:  #3e51c5;\n",
       "            color:  #f1f1f1;\n",
       "        }    #T_2509f9ec_af60_11ec_b2b2_d8fc93eebf64row9_col6 {\n",
       "            background-color:  #3b4cc0;\n",
       "            color:  #f1f1f1;\n",
       "        }    #T_2509f9ec_af60_11ec_b2b2_d8fc93eebf64row9_col7 {\n",
       "            background-color:  #445acc;\n",
       "            color:  #f1f1f1;\n",
       "        }    #T_2509f9ec_af60_11ec_b2b2_d8fc93eebf64row9_col8 {\n",
       "            background-color:  #455cce;\n",
       "            color:  #f1f1f1;\n",
       "        }    #T_2509f9ec_af60_11ec_b2b2_d8fc93eebf64row9_col9 {\n",
       "            background-color:  #b40426;\n",
       "            color:  #f1f1f1;\n",
       "        }</style><table id=\"T_2509f9ec_af60_11ec_b2b2_d8fc93eebf64\" ><thead>    <tr>        <th class=\"blank level0\" ></th>        <th class=\"col_heading level0 col0\" >ph</th>        <th class=\"col_heading level0 col1\" >Hardness</th>        <th class=\"col_heading level0 col2\" >Solids</th>        <th class=\"col_heading level0 col3\" >Chloramines</th>        <th class=\"col_heading level0 col4\" >Sulfate</th>        <th class=\"col_heading level0 col5\" >Conductivity</th>        <th class=\"col_heading level0 col6\" >Organic_carbon</th>        <th class=\"col_heading level0 col7\" >Trihalomethanes</th>        <th class=\"col_heading level0 col8\" >Turbidity</th>        <th class=\"col_heading level0 col9\" >Potability</th>    </tr></thead><tbody>\n",
       "                <tr>\n",
       "                        <th id=\"T_2509f9ec_af60_11ec_b2b2_d8fc93eebf64level0_row0\" class=\"row_heading level0 row0\" >ph</th>\n",
       "                        <td id=\"T_2509f9ec_af60_11ec_b2b2_d8fc93eebf64row0_col0\" class=\"data row0 col0\" >1.00</td>\n",
       "                        <td id=\"T_2509f9ec_af60_11ec_b2b2_d8fc93eebf64row0_col1\" class=\"data row0 col1\" >0.08</td>\n",
       "                        <td id=\"T_2509f9ec_af60_11ec_b2b2_d8fc93eebf64row0_col2\" class=\"data row0 col2\" >-0.08</td>\n",
       "                        <td id=\"T_2509f9ec_af60_11ec_b2b2_d8fc93eebf64row0_col3\" class=\"data row0 col3\" >-0.03</td>\n",
       "                        <td id=\"T_2509f9ec_af60_11ec_b2b2_d8fc93eebf64row0_col4\" class=\"data row0 col4\" >0.01</td>\n",
       "                        <td id=\"T_2509f9ec_af60_11ec_b2b2_d8fc93eebf64row0_col5\" class=\"data row0 col5\" >0.02</td>\n",
       "                        <td id=\"T_2509f9ec_af60_11ec_b2b2_d8fc93eebf64row0_col6\" class=\"data row0 col6\" >0.04</td>\n",
       "                        <td id=\"T_2509f9ec_af60_11ec_b2b2_d8fc93eebf64row0_col7\" class=\"data row0 col7\" >0.00</td>\n",
       "                        <td id=\"T_2509f9ec_af60_11ec_b2b2_d8fc93eebf64row0_col8\" class=\"data row0 col8\" >-0.04</td>\n",
       "                        <td id=\"T_2509f9ec_af60_11ec_b2b2_d8fc93eebf64row0_col9\" class=\"data row0 col9\" >-0.00</td>\n",
       "            </tr>\n",
       "            <tr>\n",
       "                        <th id=\"T_2509f9ec_af60_11ec_b2b2_d8fc93eebf64level0_row1\" class=\"row_heading level0 row1\" >Hardness</th>\n",
       "                        <td id=\"T_2509f9ec_af60_11ec_b2b2_d8fc93eebf64row1_col0\" class=\"data row1 col0\" >0.08</td>\n",
       "                        <td id=\"T_2509f9ec_af60_11ec_b2b2_d8fc93eebf64row1_col1\" class=\"data row1 col1\" >1.00</td>\n",
       "                        <td id=\"T_2509f9ec_af60_11ec_b2b2_d8fc93eebf64row1_col2\" class=\"data row1 col2\" >-0.05</td>\n",
       "                        <td id=\"T_2509f9ec_af60_11ec_b2b2_d8fc93eebf64row1_col3\" class=\"data row1 col3\" >-0.03</td>\n",
       "                        <td id=\"T_2509f9ec_af60_11ec_b2b2_d8fc93eebf64row1_col4\" class=\"data row1 col4\" >-0.09</td>\n",
       "                        <td id=\"T_2509f9ec_af60_11ec_b2b2_d8fc93eebf64row1_col5\" class=\"data row1 col5\" >-0.02</td>\n",
       "                        <td id=\"T_2509f9ec_af60_11ec_b2b2_d8fc93eebf64row1_col6\" class=\"data row1 col6\" >0.00</td>\n",
       "                        <td id=\"T_2509f9ec_af60_11ec_b2b2_d8fc93eebf64row1_col7\" class=\"data row1 col7\" >-0.01</td>\n",
       "                        <td id=\"T_2509f9ec_af60_11ec_b2b2_d8fc93eebf64row1_col8\" class=\"data row1 col8\" >-0.01</td>\n",
       "                        <td id=\"T_2509f9ec_af60_11ec_b2b2_d8fc93eebf64row1_col9\" class=\"data row1 col9\" >-0.01</td>\n",
       "            </tr>\n",
       "            <tr>\n",
       "                        <th id=\"T_2509f9ec_af60_11ec_b2b2_d8fc93eebf64level0_row2\" class=\"row_heading level0 row2\" >Solids</th>\n",
       "                        <td id=\"T_2509f9ec_af60_11ec_b2b2_d8fc93eebf64row2_col0\" class=\"data row2 col0\" >-0.08</td>\n",
       "                        <td id=\"T_2509f9ec_af60_11ec_b2b2_d8fc93eebf64row2_col1\" class=\"data row2 col1\" >-0.05</td>\n",
       "                        <td id=\"T_2509f9ec_af60_11ec_b2b2_d8fc93eebf64row2_col2\" class=\"data row2 col2\" >1.00</td>\n",
       "                        <td id=\"T_2509f9ec_af60_11ec_b2b2_d8fc93eebf64row2_col3\" class=\"data row2 col3\" >-0.07</td>\n",
       "                        <td id=\"T_2509f9ec_af60_11ec_b2b2_d8fc93eebf64row2_col4\" class=\"data row2 col4\" >-0.15</td>\n",
       "                        <td id=\"T_2509f9ec_af60_11ec_b2b2_d8fc93eebf64row2_col5\" class=\"data row2 col5\" >0.01</td>\n",
       "                        <td id=\"T_2509f9ec_af60_11ec_b2b2_d8fc93eebf64row2_col6\" class=\"data row2 col6\" >0.01</td>\n",
       "                        <td id=\"T_2509f9ec_af60_11ec_b2b2_d8fc93eebf64row2_col7\" class=\"data row2 col7\" >-0.01</td>\n",
       "                        <td id=\"T_2509f9ec_af60_11ec_b2b2_d8fc93eebf64row2_col8\" class=\"data row2 col8\" >0.02</td>\n",
       "                        <td id=\"T_2509f9ec_af60_11ec_b2b2_d8fc93eebf64row2_col9\" class=\"data row2 col9\" >0.03</td>\n",
       "            </tr>\n",
       "            <tr>\n",
       "                        <th id=\"T_2509f9ec_af60_11ec_b2b2_d8fc93eebf64level0_row3\" class=\"row_heading level0 row3\" >Chloramines</th>\n",
       "                        <td id=\"T_2509f9ec_af60_11ec_b2b2_d8fc93eebf64row3_col0\" class=\"data row3 col0\" >-0.03</td>\n",
       "                        <td id=\"T_2509f9ec_af60_11ec_b2b2_d8fc93eebf64row3_col1\" class=\"data row3 col1\" >-0.03</td>\n",
       "                        <td id=\"T_2509f9ec_af60_11ec_b2b2_d8fc93eebf64row3_col2\" class=\"data row3 col2\" >-0.07</td>\n",
       "                        <td id=\"T_2509f9ec_af60_11ec_b2b2_d8fc93eebf64row3_col3\" class=\"data row3 col3\" >1.00</td>\n",
       "                        <td id=\"T_2509f9ec_af60_11ec_b2b2_d8fc93eebf64row3_col4\" class=\"data row3 col4\" >0.02</td>\n",
       "                        <td id=\"T_2509f9ec_af60_11ec_b2b2_d8fc93eebf64row3_col5\" class=\"data row3 col5\" >-0.02</td>\n",
       "                        <td id=\"T_2509f9ec_af60_11ec_b2b2_d8fc93eebf64row3_col6\" class=\"data row3 col6\" >-0.01</td>\n",
       "                        <td id=\"T_2509f9ec_af60_11ec_b2b2_d8fc93eebf64row3_col7\" class=\"data row3 col7\" >0.02</td>\n",
       "                        <td id=\"T_2509f9ec_af60_11ec_b2b2_d8fc93eebf64row3_col8\" class=\"data row3 col8\" >0.00</td>\n",
       "                        <td id=\"T_2509f9ec_af60_11ec_b2b2_d8fc93eebf64row3_col9\" class=\"data row3 col9\" >0.02</td>\n",
       "            </tr>\n",
       "            <tr>\n",
       "                        <th id=\"T_2509f9ec_af60_11ec_b2b2_d8fc93eebf64level0_row4\" class=\"row_heading level0 row4\" >Sulfate</th>\n",
       "                        <td id=\"T_2509f9ec_af60_11ec_b2b2_d8fc93eebf64row4_col0\" class=\"data row4 col0\" >0.01</td>\n",
       "                        <td id=\"T_2509f9ec_af60_11ec_b2b2_d8fc93eebf64row4_col1\" class=\"data row4 col1\" >-0.09</td>\n",
       "                        <td id=\"T_2509f9ec_af60_11ec_b2b2_d8fc93eebf64row4_col2\" class=\"data row4 col2\" >-0.15</td>\n",
       "                        <td id=\"T_2509f9ec_af60_11ec_b2b2_d8fc93eebf64row4_col3\" class=\"data row4 col3\" >0.02</td>\n",
       "                        <td id=\"T_2509f9ec_af60_11ec_b2b2_d8fc93eebf64row4_col4\" class=\"data row4 col4\" >1.00</td>\n",
       "                        <td id=\"T_2509f9ec_af60_11ec_b2b2_d8fc93eebf64row4_col5\" class=\"data row4 col5\" >-0.01</td>\n",
       "                        <td id=\"T_2509f9ec_af60_11ec_b2b2_d8fc93eebf64row4_col6\" class=\"data row4 col6\" >0.03</td>\n",
       "                        <td id=\"T_2509f9ec_af60_11ec_b2b2_d8fc93eebf64row4_col7\" class=\"data row4 col7\" >-0.03</td>\n",
       "                        <td id=\"T_2509f9ec_af60_11ec_b2b2_d8fc93eebf64row4_col8\" class=\"data row4 col8\" >-0.01</td>\n",
       "                        <td id=\"T_2509f9ec_af60_11ec_b2b2_d8fc93eebf64row4_col9\" class=\"data row4 col9\" >-0.02</td>\n",
       "            </tr>\n",
       "            <tr>\n",
       "                        <th id=\"T_2509f9ec_af60_11ec_b2b2_d8fc93eebf64level0_row5\" class=\"row_heading level0 row5\" >Conductivity</th>\n",
       "                        <td id=\"T_2509f9ec_af60_11ec_b2b2_d8fc93eebf64row5_col0\" class=\"data row5 col0\" >0.02</td>\n",
       "                        <td id=\"T_2509f9ec_af60_11ec_b2b2_d8fc93eebf64row5_col1\" class=\"data row5 col1\" >-0.02</td>\n",
       "                        <td id=\"T_2509f9ec_af60_11ec_b2b2_d8fc93eebf64row5_col2\" class=\"data row5 col2\" >0.01</td>\n",
       "                        <td id=\"T_2509f9ec_af60_11ec_b2b2_d8fc93eebf64row5_col3\" class=\"data row5 col3\" >-0.02</td>\n",
       "                        <td id=\"T_2509f9ec_af60_11ec_b2b2_d8fc93eebf64row5_col4\" class=\"data row5 col4\" >-0.01</td>\n",
       "                        <td id=\"T_2509f9ec_af60_11ec_b2b2_d8fc93eebf64row5_col5\" class=\"data row5 col5\" >1.00</td>\n",
       "                        <td id=\"T_2509f9ec_af60_11ec_b2b2_d8fc93eebf64row5_col6\" class=\"data row5 col6\" >0.02</td>\n",
       "                        <td id=\"T_2509f9ec_af60_11ec_b2b2_d8fc93eebf64row5_col7\" class=\"data row5 col7\" >0.00</td>\n",
       "                        <td id=\"T_2509f9ec_af60_11ec_b2b2_d8fc93eebf64row5_col8\" class=\"data row5 col8\" >0.01</td>\n",
       "                        <td id=\"T_2509f9ec_af60_11ec_b2b2_d8fc93eebf64row5_col9\" class=\"data row5 col9\" >-0.01</td>\n",
       "            </tr>\n",
       "            <tr>\n",
       "                        <th id=\"T_2509f9ec_af60_11ec_b2b2_d8fc93eebf64level0_row6\" class=\"row_heading level0 row6\" >Organic_carbon</th>\n",
       "                        <td id=\"T_2509f9ec_af60_11ec_b2b2_d8fc93eebf64row6_col0\" class=\"data row6 col0\" >0.04</td>\n",
       "                        <td id=\"T_2509f9ec_af60_11ec_b2b2_d8fc93eebf64row6_col1\" class=\"data row6 col1\" >0.00</td>\n",
       "                        <td id=\"T_2509f9ec_af60_11ec_b2b2_d8fc93eebf64row6_col2\" class=\"data row6 col2\" >0.01</td>\n",
       "                        <td id=\"T_2509f9ec_af60_11ec_b2b2_d8fc93eebf64row6_col3\" class=\"data row6 col3\" >-0.01</td>\n",
       "                        <td id=\"T_2509f9ec_af60_11ec_b2b2_d8fc93eebf64row6_col4\" class=\"data row6 col4\" >0.03</td>\n",
       "                        <td id=\"T_2509f9ec_af60_11ec_b2b2_d8fc93eebf64row6_col5\" class=\"data row6 col5\" >0.02</td>\n",
       "                        <td id=\"T_2509f9ec_af60_11ec_b2b2_d8fc93eebf64row6_col6\" class=\"data row6 col6\" >1.00</td>\n",
       "                        <td id=\"T_2509f9ec_af60_11ec_b2b2_d8fc93eebf64row6_col7\" class=\"data row6 col7\" >-0.01</td>\n",
       "                        <td id=\"T_2509f9ec_af60_11ec_b2b2_d8fc93eebf64row6_col8\" class=\"data row6 col8\" >-0.03</td>\n",
       "                        <td id=\"T_2509f9ec_af60_11ec_b2b2_d8fc93eebf64row6_col9\" class=\"data row6 col9\" >-0.03</td>\n",
       "            </tr>\n",
       "            <tr>\n",
       "                        <th id=\"T_2509f9ec_af60_11ec_b2b2_d8fc93eebf64level0_row7\" class=\"row_heading level0 row7\" >Trihalomethanes</th>\n",
       "                        <td id=\"T_2509f9ec_af60_11ec_b2b2_d8fc93eebf64row7_col0\" class=\"data row7 col0\" >0.00</td>\n",
       "                        <td id=\"T_2509f9ec_af60_11ec_b2b2_d8fc93eebf64row7_col1\" class=\"data row7 col1\" >-0.01</td>\n",
       "                        <td id=\"T_2509f9ec_af60_11ec_b2b2_d8fc93eebf64row7_col2\" class=\"data row7 col2\" >-0.01</td>\n",
       "                        <td id=\"T_2509f9ec_af60_11ec_b2b2_d8fc93eebf64row7_col3\" class=\"data row7 col3\" >0.02</td>\n",
       "                        <td id=\"T_2509f9ec_af60_11ec_b2b2_d8fc93eebf64row7_col4\" class=\"data row7 col4\" >-0.03</td>\n",
       "                        <td id=\"T_2509f9ec_af60_11ec_b2b2_d8fc93eebf64row7_col5\" class=\"data row7 col5\" >0.00</td>\n",
       "                        <td id=\"T_2509f9ec_af60_11ec_b2b2_d8fc93eebf64row7_col6\" class=\"data row7 col6\" >-0.01</td>\n",
       "                        <td id=\"T_2509f9ec_af60_11ec_b2b2_d8fc93eebf64row7_col7\" class=\"data row7 col7\" >1.00</td>\n",
       "                        <td id=\"T_2509f9ec_af60_11ec_b2b2_d8fc93eebf64row7_col8\" class=\"data row7 col8\" >-0.02</td>\n",
       "                        <td id=\"T_2509f9ec_af60_11ec_b2b2_d8fc93eebf64row7_col9\" class=\"data row7 col9\" >0.01</td>\n",
       "            </tr>\n",
       "            <tr>\n",
       "                        <th id=\"T_2509f9ec_af60_11ec_b2b2_d8fc93eebf64level0_row8\" class=\"row_heading level0 row8\" >Turbidity</th>\n",
       "                        <td id=\"T_2509f9ec_af60_11ec_b2b2_d8fc93eebf64row8_col0\" class=\"data row8 col0\" >-0.04</td>\n",
       "                        <td id=\"T_2509f9ec_af60_11ec_b2b2_d8fc93eebf64row8_col1\" class=\"data row8 col1\" >-0.01</td>\n",
       "                        <td id=\"T_2509f9ec_af60_11ec_b2b2_d8fc93eebf64row8_col2\" class=\"data row8 col2\" >0.02</td>\n",
       "                        <td id=\"T_2509f9ec_af60_11ec_b2b2_d8fc93eebf64row8_col3\" class=\"data row8 col3\" >0.00</td>\n",
       "                        <td id=\"T_2509f9ec_af60_11ec_b2b2_d8fc93eebf64row8_col4\" class=\"data row8 col4\" >-0.01</td>\n",
       "                        <td id=\"T_2509f9ec_af60_11ec_b2b2_d8fc93eebf64row8_col5\" class=\"data row8 col5\" >0.01</td>\n",
       "                        <td id=\"T_2509f9ec_af60_11ec_b2b2_d8fc93eebf64row8_col6\" class=\"data row8 col6\" >-0.03</td>\n",
       "                        <td id=\"T_2509f9ec_af60_11ec_b2b2_d8fc93eebf64row8_col7\" class=\"data row8 col7\" >-0.02</td>\n",
       "                        <td id=\"T_2509f9ec_af60_11ec_b2b2_d8fc93eebf64row8_col8\" class=\"data row8 col8\" >1.00</td>\n",
       "                        <td id=\"T_2509f9ec_af60_11ec_b2b2_d8fc93eebf64row8_col9\" class=\"data row8 col9\" >0.00</td>\n",
       "            </tr>\n",
       "            <tr>\n",
       "                        <th id=\"T_2509f9ec_af60_11ec_b2b2_d8fc93eebf64level0_row9\" class=\"row_heading level0 row9\" >Potability</th>\n",
       "                        <td id=\"T_2509f9ec_af60_11ec_b2b2_d8fc93eebf64row9_col0\" class=\"data row9 col0\" >-0.00</td>\n",
       "                        <td id=\"T_2509f9ec_af60_11ec_b2b2_d8fc93eebf64row9_col1\" class=\"data row9 col1\" >-0.01</td>\n",
       "                        <td id=\"T_2509f9ec_af60_11ec_b2b2_d8fc93eebf64row9_col2\" class=\"data row9 col2\" >0.03</td>\n",
       "                        <td id=\"T_2509f9ec_af60_11ec_b2b2_d8fc93eebf64row9_col3\" class=\"data row9 col3\" >0.02</td>\n",
       "                        <td id=\"T_2509f9ec_af60_11ec_b2b2_d8fc93eebf64row9_col4\" class=\"data row9 col4\" >-0.02</td>\n",
       "                        <td id=\"T_2509f9ec_af60_11ec_b2b2_d8fc93eebf64row9_col5\" class=\"data row9 col5\" >-0.01</td>\n",
       "                        <td id=\"T_2509f9ec_af60_11ec_b2b2_d8fc93eebf64row9_col6\" class=\"data row9 col6\" >-0.03</td>\n",
       "                        <td id=\"T_2509f9ec_af60_11ec_b2b2_d8fc93eebf64row9_col7\" class=\"data row9 col7\" >0.01</td>\n",
       "                        <td id=\"T_2509f9ec_af60_11ec_b2b2_d8fc93eebf64row9_col8\" class=\"data row9 col8\" >0.00</td>\n",
       "                        <td id=\"T_2509f9ec_af60_11ec_b2b2_d8fc93eebf64row9_col9\" class=\"data row9 col9\" >1.00</td>\n",
       "            </tr>\n",
       "    </tbody></table>"
      ],
      "text/plain": [
       "<pandas.io.formats.style.Styler at 0x215decb9fc8>"
      ]
     },
     "execution_count": 17,
     "metadata": {},
     "output_type": "execute_result"
    }
   ],
   "source": [
    "data.corr().style.background_gradient(cmap='coolwarm').set_precision(2)"
   ]
  },
  {
   "cell_type": "markdown",
   "metadata": {},
   "source": [
    "If the correlection in the heat map is much therefore apply Dimensionality Reduction(Remove the column that so correlate)"
   ]
  },
  {
   "cell_type": "markdown",
   "metadata": {},
   "source": [
    "Checking if we need to do dimensionality Reduction"
   ]
  },
  {
   "cell_type": "code",
   "execution_count": 18,
   "metadata": {},
   "outputs": [
    {
     "data": {
      "image/png": "[encoded data removed]",
      "text/plain": [
       "<Figure size 720x504 with 2 Axes>"
      ]
     },
     "metadata": {
      "needs_background": "light"
     },
     "output_type": "display_data"
    }
   ],
   "source": [
    "sns.heatmap(data.corr(),annot=True,cmap='terrain')\n",
    "fig=plt.gcf()\n",
    "fig.set_size_inches(10,7)\n",
    "plt.show()"
   ]
  },
  {
   "cell_type": "markdown",
   "metadata": {},
   "source": [
    "Checking the box plot for outliers"
   ]
  },
  {
   "cell_type": "code",
   "execution_count": 19,
   "metadata": {},
   "outputs": [
    {
     "data": {
      "image/png": "[encoded data removed]",
      "text/plain": [
       "<Figure size 1152x504 with 1 Axes>"
      ]
     },
     "metadata": {
      "needs_background": "light"
     },
     "output_type": "display_data"
    }
   ],
   "source": [
    "data.boxplot(figsize=(16,7))\n",
    "plt.show()"
   ]
  },
  {
   "cell_type": "code",
   "execution_count": 20,
   "metadata": {},
   "outputs": [
    {
     "data": {
      "text/plain": [
       "count     3276.000000\n",
       "mean     22014.092526\n",
       "std       8768.570828\n",
       "min        320.942611\n",
       "25%      15666.690297\n",
       "50%      20927.833607\n",
       "75%      27332.762127\n",
       "max      61227.196008\n",
       "Name: Solids, dtype: float64"
      ]
     },
     "execution_count": 20,
     "metadata": {},
     "output_type": "execute_result"
    }
   ],
   "source": [
    "data['Solids'].describe()"
   ]
  },
  {
   "cell_type": "markdown",
   "metadata": {},
   "source": [
    "Not removing the outliers because they maybe important to decide the quality of water"
   ]
  },
  {
   "cell_type": "markdown",
   "metadata": {},
   "source": [
    "We do not need Label encoding/ One hot encoding when our variablea are integers not string."
   ]
  },
  {
   "cell_type": "code",
   "execution_count": 21,
   "metadata": {},
   "outputs": [
    {
     "data": {
      "text/plain": [
       "0    1998\n",
       "1    1278\n",
       "Name: Potability, dtype: int64"
      ]
     },
     "execution_count": 21,
     "metadata": {},
     "output_type": "execute_result"
    }
   ],
   "source": [
    "data['Potability'].value_counts()"
   ]
  },
  {
   "cell_type": "code",
   "execution_count": 22,
   "metadata": {},
   "outputs": [
    {
     "data": {
      "text/plain": [
       "<matplotlib.axes._subplots.AxesSubplot at 0x215df6a89c8>"
      ]
     },
     "execution_count": 22,
     "metadata": {},
     "output_type": "execute_result"
    },
    {
     "data": {
      "image/png": "[encoded data removed]",
      "text/plain": [
       "<Figure size 432x288 with 1 Axes>"
      ]
     },
     "metadata": {
      "needs_background": "light"
     },
     "output_type": "display_data"
    }
   ],
   "source": [
    "sns.countplot(data['Potability'])"
   ]
  },
  {
   "cell_type": "code",
   "execution_count": 23,
   "metadata": {},
   "outputs": [
    {
     "data": {
      "image/png": "[encoded data removed]",
      "text/plain": [
       "<Figure size 1008x864 with 12 Axes>"
      ]
     },
     "metadata": {
      "needs_background": "light"
     },
     "output_type": "display_data"
    }
   ],
   "source": [
    "data.hist(figsize=(14,12))\n",
    "plt.show()"
   ]
  },
  {
   "cell_type": "code",
   "execution_count": 27,
   "metadata": {},
   "outputs": [
    {
     "data": {
      "image/png": "[encoded data removed]",
      "text/plain": [
       "<Figure size 432x288 with 1 Axes>"
      ]
     },
     "metadata": {
      "needs_background": "light"
     },
     "output_type": "display_data"
    }
   ],
   "source": [
    "#Decision Tree\n",
    "from "
   ]
  },
  {
   "cell_type": "code",
   "execution_count": 29,
   "metadata": {},
   "outputs": [],
   "source": [
    "x=data.drop('Potability',axis=1)"
   ]
  },
  {
   "cell_type": "code",
   "execution_count": 30,
   "metadata": {},
   "outputs": [
    {
     "data": {
      "text/html": [
       "<div>\n",
       "<style scoped>\n",
       "    .dataframe tbody tr th:only-of-type {\n",
       "        vertical-align: middle;\n",
       "    }\n",
       "\n",
       "    .dataframe tbody tr th {\n",
       "        vertical-align: top;\n",
       "    }\n",
       "\n",
       "    .dataframe thead th {\n",
       "        text-align: right;\n",
       "    }\n",
       "</style>\n",
       "<table border=\"1\" class=\"dataframe\">\n",
       "  <thead>\n",
       "    <tr style=\"text-align: right;\">\n",
       "      <th></th>\n",
       "      <th>ph</th>\n",
       "      <th>Hardness</th>\n",
       "      <th>Solids</th>\n",
       "      <th>Chloramines</th>\n",
       "      <th>Sulfate</th>\n",
       "      <th>Conductivity</th>\n",
       "      <th>Organic_carbon</th>\n",
       "      <th>Trihalomethanes</th>\n",
       "      <th>Turbidity</th>\n",
       "    </tr>\n",
       "  </thead>\n",
       "  <tbody>\n",
       "    <tr>\n",
       "      <th>0</th>\n",
       "      <td>7.080795</td>\n",
       "      <td>204.890455</td>\n",
       "      <td>20791.318981</td>\n",
       "      <td>7.300212</td>\n",
       "      <td>368.516441</td>\n",
       "      <td>564.308654</td>\n",
       "      <td>10.379783</td>\n",
       "      <td>86.990970</td>\n",
       "      <td>2.963135</td>\n",
       "    </tr>\n",
       "    <tr>\n",
       "      <th>1</th>\n",
       "      <td>3.716080</td>\n",
       "      <td>129.422921</td>\n",
       "      <td>18630.057858</td>\n",
       "      <td>6.635246</td>\n",
       "      <td>333.775777</td>\n",
       "      <td>592.885359</td>\n",
       "      <td>15.180013</td>\n",
       "      <td>56.329076</td>\n",
       "      <td>4.500656</td>\n",
       "    </tr>\n",
       "    <tr>\n",
       "      <th>2</th>\n",
       "      <td>8.099124</td>\n",
       "      <td>224.236259</td>\n",
       "      <td>19909.541732</td>\n",
       "      <td>9.275884</td>\n",
       "      <td>333.775777</td>\n",
       "      <td>418.606213</td>\n",
       "      <td>16.868637</td>\n",
       "      <td>66.420093</td>\n",
       "      <td>3.055934</td>\n",
       "    </tr>\n",
       "    <tr>\n",
       "      <th>3</th>\n",
       "      <td>8.316766</td>\n",
       "      <td>214.373394</td>\n",
       "      <td>22018.417441</td>\n",
       "      <td>8.059332</td>\n",
       "      <td>356.886136</td>\n",
       "      <td>363.266516</td>\n",
       "      <td>18.436524</td>\n",
       "      <td>100.341674</td>\n",
       "      <td>4.628771</td>\n",
       "    </tr>\n",
       "    <tr>\n",
       "      <th>4</th>\n",
       "      <td>9.092223</td>\n",
       "      <td>181.101509</td>\n",
       "      <td>17978.986339</td>\n",
       "      <td>6.546600</td>\n",
       "      <td>310.135738</td>\n",
       "      <td>398.410813</td>\n",
       "      <td>11.558279</td>\n",
       "      <td>31.997993</td>\n",
       "      <td>4.075075</td>\n",
       "    </tr>\n",
       "    <tr>\n",
       "      <th>...</th>\n",
       "      <td>...</td>\n",
       "      <td>...</td>\n",
       "      <td>...</td>\n",
       "      <td>...</td>\n",
       "      <td>...</td>\n",
       "      <td>...</td>\n",
       "      <td>...</td>\n",
       "      <td>...</td>\n",
       "      <td>...</td>\n",
       "    </tr>\n",
       "    <tr>\n",
       "      <th>3271</th>\n",
       "      <td>4.668102</td>\n",
       "      <td>193.681735</td>\n",
       "      <td>47580.991603</td>\n",
       "      <td>7.166639</td>\n",
       "      <td>359.948574</td>\n",
       "      <td>526.424171</td>\n",
       "      <td>13.894419</td>\n",
       "      <td>66.687695</td>\n",
       "      <td>4.435821</td>\n",
       "    </tr>\n",
       "    <tr>\n",
       "      <th>3272</th>\n",
       "      <td>7.808856</td>\n",
       "      <td>193.553212</td>\n",
       "      <td>17329.802160</td>\n",
       "      <td>8.061362</td>\n",
       "      <td>333.775777</td>\n",
       "      <td>392.449580</td>\n",
       "      <td>19.903225</td>\n",
       "      <td>66.396293</td>\n",
       "      <td>2.798243</td>\n",
       "    </tr>\n",
       "    <tr>\n",
       "      <th>3273</th>\n",
       "      <td>9.419510</td>\n",
       "      <td>175.762646</td>\n",
       "      <td>33155.578218</td>\n",
       "      <td>7.350233</td>\n",
       "      <td>333.775777</td>\n",
       "      <td>432.044783</td>\n",
       "      <td>11.039070</td>\n",
       "      <td>69.845400</td>\n",
       "      <td>3.298875</td>\n",
       "    </tr>\n",
       "    <tr>\n",
       "      <th>3274</th>\n",
       "      <td>5.126763</td>\n",
       "      <td>230.603758</td>\n",
       "      <td>11983.869376</td>\n",
       "      <td>6.303357</td>\n",
       "      <td>333.775777</td>\n",
       "      <td>402.883113</td>\n",
       "      <td>11.168946</td>\n",
       "      <td>77.488213</td>\n",
       "      <td>4.708658</td>\n",
       "    </tr>\n",
       "    <tr>\n",
       "      <th>3275</th>\n",
       "      <td>7.874671</td>\n",
       "      <td>195.102299</td>\n",
       "      <td>17404.177061</td>\n",
       "      <td>7.509306</td>\n",
       "      <td>333.775777</td>\n",
       "      <td>327.459760</td>\n",
       "      <td>16.140368</td>\n",
       "      <td>78.698446</td>\n",
       "      <td>2.309149</td>\n",
       "    </tr>\n",
       "  </tbody>\n",
       "</table>\n",
       "<p>3276 rows × 9 columns</p>\n",
       "</div>"
      ],
      "text/plain": [
       "            ph    Hardness        Solids  Chloramines     Sulfate  \\\n",
       "0     7.080795  204.890455  20791.318981     7.300212  368.516441   \n",
       "1     3.716080  129.422921  18630.057858     6.635246  333.775777   \n",
       "2     8.099124  224.236259  19909.541732     9.275884  333.775777   \n",
       "3     8.316766  214.373394  22018.417441     8.059332  356.886136   \n",
       "4     9.092223  181.101509  17978.986339     6.546600  310.135738   \n",
       "...        ...         ...           ...          ...         ...   \n",
       "3271  4.668102  193.681735  47580.991603     7.166639  359.948574   \n",
       "3272  7.808856  193.553212  17329.802160     8.061362  333.775777   \n",
       "3273  9.419510  175.762646  33155.578218     7.350233  333.775777   \n",
       "3274  5.126763  230.603758  11983.869376     6.303357  333.775777   \n",
       "3275  7.874671  195.102299  17404.177061     7.509306  333.775777   \n",
       "\n",
       "      Conductivity  Organic_carbon  Trihalomethanes  Turbidity  \n",
       "0       564.308654       10.379783        86.990970   2.963135  \n",
       "1       592.885359       15.180013        56.329076   4.500656  \n",
       "2       418.606213       16.868637        66.420093   3.055934  \n",
       "3       363.266516       18.436524       100.341674   4.628771  \n",
       "4       398.410813       11.558279        31.997993   4.075075  \n",
       "...            ...             ...              ...        ...  \n",
       "3271    526.424171       13.894419        66.687695   4.435821  \n",
       "3272    392.449580       19.903225        66.396293   2.798243  \n",
       "3273    432.044783       11.039070        69.845400   3.298875  \n",
       "3274    402.883113       11.168946        77.488213   4.708658  \n",
       "3275    327.459760       16.140368        78.698446   2.309149  \n",
       "\n",
       "[3276 rows x 9 columns]"
      ]
     },
     "execution_count": 30,
     "metadata": {},
     "output_type": "execute_result"
    }
   ],
   "source": [
    "x"
   ]
  },
  {
   "cell_type": "code",
   "execution_count": 31,
   "metadata": {},
   "outputs": [],
   "source": [
    "y=data['Potability']"
   ]
  },
  {
   "cell_type": "code",
   "execution_count": 32,
   "metadata": {},
   "outputs": [
    {
     "data": {
      "text/plain": [
       "0       0\n",
       "1       0\n",
       "2       0\n",
       "3       0\n",
       "4       0\n",
       "       ..\n",
       "3271    1\n",
       "3272    1\n",
       "3273    1\n",
       "3274    1\n",
       "3275    1\n",
       "Name: Potability, Length: 3276, dtype: int64"
      ]
     },
     "execution_count": 32,
     "metadata": {},
     "output_type": "execute_result"
    }
   ],
   "source": [
    "y"
   ]
  },
  {
   "cell_type": "code",
   "execution_count": 50,
   "metadata": {},
   "outputs": [],
   "source": [
    "from sklearn.model_selection import train_test_split\n",
    "x_train,x_test,y_train,y_test = train_test_split(x,y,test_size=0.2,random_state=0)"
   ]
  },
  {
   "cell_type": "code",
   "execution_count": 51,
   "metadata": {},
   "outputs": [
    {
     "data": {
      "text/plain": [
       "DecisionTreeClassifier(ccp_alpha=0.0, class_weight=None, criterion='gini',\n",
       "                       max_depth=None, max_features=None, max_leaf_nodes=None,\n",
       "                       min_impurity_decrease=0.0, min_impurity_split=None,\n",
       "                       min_samples_leaf=1, min_samples_split=2,\n",
       "                       min_weight_fraction_leaf=0.0, presort='deprecated',\n",
       "                       random_state=None, splitter='best')"
      ]
     },
     "execution_count": 51,
     "metadata": {},
     "output_type": "execute_result"
    }
   ],
   "source": [
    "from sklearn.tree import DecisionTreeClassifier\n",
    "classifier=DecisionTreeClassifier()\n",
    "classifier.fit(x_train,y_train)"
   ]
  },
  {
   "cell_type": "code",
   "execution_count": 52,
   "metadata": {},
   "outputs": [],
   "source": [
    "y_prediction=classifier.predict(x_test)"
   ]
  },
  {
   "cell_type": "code",
   "execution_count": 53,
   "metadata": {},
   "outputs": [],
   "source": [
    "from sklearn.metrics import accuracy_score,confusion_matrix"
   ]
  },
  {
   "cell_type": "code",
   "execution_count": 54,
   "metadata": {},
   "outputs": [
    {
     "data": {
      "text/plain": [
       "0.5990853658536586"
      ]
     },
     "execution_count": 54,
     "metadata": {},
     "output_type": "execute_result"
    }
   ],
   "source": [
    "accuracy_score(y_prediction,y_test)"
   ]
  },
  {
   "cell_type": "code",
   "execution_count": 61,
   "metadata": {},
   "outputs": [
    {
     "data": {
      "text/plain": [
       "array([[274, 125],\n",
       "       [138, 119]], dtype=int64)"
      ]
     },
     "execution_count": 61,
     "metadata": {},
     "output_type": "execute_result"
    }
   ],
   "source": [
    "confusion_matrix(y_prediction,y_test)"
   ]
  },
  {
   "cell_type": "code",
   "execution_count": 62,
   "metadata": {},
   "outputs": [
    {
     "data": {
      "text/plain": [
       "KNeighborsClassifier(algorithm='auto', leaf_size=30, metric='minkowski',\n",
       "                     metric_params=None, n_jobs=None, n_neighbors=5, p=2,\n",
       "                     weights='uniform')"
      ]
     },
     "execution_count": 62,
     "metadata": {},
     "output_type": "execute_result"
    }
   ],
   "source": [
    "from sklearn.neighbors import KNeighborsClassifier\n",
    "classifier = KNeighborsClassifier()\n",
    "classifier.fit(x_train,y_train)"
   ]
  },
  {
   "cell_type": "code",
   "execution_count": 64,
   "metadata": {},
   "outputs": [],
   "source": [
    "y_prediction=classifier.predict(x_test)"
   ]
  },
  {
   "cell_type": "code",
   "execution_count": 65,
   "metadata": {},
   "outputs": [
    {
     "data": {
      "text/plain": [
       "0.5457317073170732"
      ]
     },
     "execution_count": 65,
     "metadata": {},
     "output_type": "execute_result"
    }
   ],
   "source": [
    "accuracy_score(y_prediction,y_test)"
   ]
  },
  {
   "cell_type": "code",
   "execution_count": 67,
   "metadata": {},
   "outputs": [
    {
     "data": {
      "text/plain": [
       "array([0], dtype=int64)"
      ]
     },
     "execution_count": 67,
     "metadata": {},
     "output_type": "execute_result"
    }
   ],
   "source": [
    "classifier.predict([[7.080795,204.890455,20791.318981,7.300212,368.516441,564.308654,10.379783,86.990970,2.963135]])"
   ]
  },
  {
   "cell_type": "code",
   "execution_count": null,
   "metadata": {},
   "outputs": [],
   "source": []
  }
 ],
 "metadata": {
  "kernelspec": {
   "display_name": "Python 3",
   "language": "python",
   "name": "python3"
  },
  "language_info": {
   "codemirror_mode": {
    "name": "ipython",
    "version": 3
   },
   "file_extension": ".py",
   "mimetype": "text/x-python",
   "name": "python",
   "nbconvert_exporter": "python",
   "pygments_lexer": "ipython3",
   "version": "3.7.6"
  }
 },
 "nbformat": 4,
 "nbformat_minor": 4
}
